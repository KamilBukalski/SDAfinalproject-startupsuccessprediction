{
 "cells": [
  {
   "cell_type": "code",
   "execution_count": null,
   "id": "d77baebd",
   "metadata": {},
   "outputs": [],
   "source": [
    "### Libraries import ###\n",
    "import pandas as pd\n",
    "import numpy as np\n",
    "import matplotlib.pyplot as plt\n",
    "import pickle as p\n",
    "import seaborn as sns\n",
    "import shap\n",
    "from sklearn.model_selection import train_test_split, GridSearchCV, StratifiedKFold\n",
    "from sklearn.ensemble import RandomForestClassifier\n",
    "import xgboost as xgb\n",
    "from sklearn.metrics import f1_score, accuracy_score, precision_score, recall_score\n",
    "from joblib import dump"
   ]
  },
  {
   "cell_type": "code",
   "execution_count": null,
   "id": "f418a73f",
   "metadata": {},
   "outputs": [],
   "source": [
    "dataset = pd.read_csv('startup data.csv')\n",
    "\n",
    "\"\"\"Deleting unneccessary columns\"\"\"\n",
    "\n",
    "dataset=dataset.drop_duplicates(subset=['name'])\n",
    "dataset = dataset.drop(['Unnamed: 0', \n",
    "                        'Unnamed: 6',\n",
    "                        'latitude', \n",
    "                        'longitude', \n",
    "                        'state_code', \n",
    "                        'state_code.1', \n",
    "                        'zip_code', \n",
    "                        'object_id'], axis = 1)\n",
    "\n",
    "\"\"\"Calculating the age of the startup (in years)\"\"\"\n",
    "\n",
    "time_columns = ['founded_at', 'closed_at', 'first_funding_at', 'last_funding_at']\n",
    "for column in time_columns:\n",
    "  dataset[column] = pd.to_datetime(dataset[column])\n",
    "\n",
    "dataset['closed_date'] = dataset['closed_at']\n",
    "dataset['closed_date'] = dataset['closed_date'].fillna('2013-12-31')\n",
    "\n",
    "dataset['age'] = dataset['closed_date'] - dataset['founded_at']\n",
    "\n",
    "dataset[\"age\"] = round(dataset['age']/np.timedelta64(1,'Y'))\n",
    "\n",
    "\"\"\"Ereasing rows with 0 values\"\"\"\n",
    "\n",
    "time_columns = ['age_first_funding_year', \n",
    "                'age_last_funding_year', \n",
    "                'age_first_milestone_year', \n",
    "                'age_last_milestone_year', \n",
    "                'age']\n",
    "for column in time_columns:\n",
    "  dataset = dataset.drop(dataset[dataset[column] < 0].index)\n",
    "\n",
    "\"\"\"Filling in the missing (NaN) fields\"\"\"\n",
    "\n",
    "dataset['age_first_milestone_year'] = dataset['age_first_milestone_year'].fillna(0)\n",
    "dataset['age_last_milestone_year'] = dataset['age_last_milestone_year'].fillna(0)"
   ]
  },
  {
   "cell_type": "code",
   "execution_count": null,
   "id": "6aa12d3d",
   "metadata": {},
   "outputs": [],
   "source": [
    "\"\"\"Graphs and deeper analysis \"\"\"\n",
    "\n",
    "\"\"\"Graph of dependency of success (startup being acquired) based on age, funding years and milestones years\"\"\"\n",
    "\n",
    "columns = ['age',\n",
    "           'age_first_funding_year',\n",
    "           'age_last_funding_year', \n",
    "           'age_first_milestone_year',\n",
    "           'age_last_milestone_year']\n",
    "\n",
    "plt.figure(figsize=(15, 10))\n",
    "for i in columns:\n",
    "  dataset2 = dataset.copy()\n",
    "  dataset2[i] = round(dataset2[i])\n",
    "  dataset_age_group=dataset2[dataset2['labels']==1].groupby([i]).agg({'labels':'count'}).reset_index()\n",
    "  dataset_age_group.columns=[i,'total_succes']\n",
    "\n",
    "  dataset_age_group_total=dataset2.groupby([i]).agg({'labels':'count'}).reset_index()\n",
    "  dataset_age_group_total.columns=[i,'total']\n",
    "\n",
    "  dataset_age_group=dataset_age_group.merge(dataset_age_group_total,on=i)\n",
    "  dataset_age_group['succes_rate']=round((dataset_age_group['total_succes']/dataset_age_group['total'])*100,2)\n",
    "    \n",
    "  plt.plot(dataset_age_group[i], dataset_age_group['succes_rate'], label=i, linewidth=3 )\n",
    "plt.legend()\n",
    "plt.xlabel('years')\n",
    "plt.ylabel('succes rate [%]')\n",
    "plt.title('Succes rate in comparison to age and funding and milestone year')\n",
    "plt.show()"
   ]
  },
  {
   "cell_type": "code",
   "execution_count": null,
   "id": "d8e34dad",
   "metadata": {},
   "outputs": [],
   "source": [
    "\"\"\"Graph of dependency of success (startup being acquired) based on relationships, funding and milestones\"\"\"\n",
    "\n",
    "columns = ['relationships', 'funding_rounds', 'milestones']\n",
    "\n",
    "plt.figure(figsize=(15, 10))\n",
    "for i in columns:\n",
    "  dataset2 = dataset.copy()\n",
    "  dataset2[i] = round(dataset2[i])\n",
    "  dataset_age_group=dataset2[dataset2['labels']==1].groupby([i]).agg({'labels':'count'}).reset_index()\n",
    "  dataset_age_group.columns=[i,'total_succes']\n",
    "\n",
    "  dataset_age_group_total=dataset2.groupby([i]).agg({'labels':'count'}).reset_index()\n",
    "  dataset_age_group_total.columns=[i,'total']\n",
    "\n",
    "  dataset_age_group=dataset_age_group.merge(dataset_age_group_total,on=i)\n",
    "  dataset_age_group['succes_rate']=round((dataset_age_group['total_succes']/dataset_age_group['total'])*100,2)\n",
    "    \n",
    "  plt.plot(dataset_age_group[i], dataset_age_group['succes_rate'], label=i, linewidth=3 )\n",
    "plt.legend()\n",
    "plt.xlabel('years')\n",
    "plt.ylabel('succes rate [%]')\n",
    "plt.title('Succes rate in comparison to number of relationships, funding_rounds and milestones')\n",
    "plt.show()"
   ]
  },
  {
   "cell_type": "code",
   "execution_count": null,
   "id": "7de7d69d",
   "metadata": {},
   "outputs": [],
   "source": [
    "\"\"\"Data distribution\"\"\"\n",
    "\n",
    "columns = ['age', \n",
    "           'age_first_funding_year', \n",
    "           'age_last_funding_year',\n",
    "           'age_first_milestone_year', \n",
    "           'age_last_milestone_year', \n",
    "           'relationships', \n",
    "           'funding_rounds', \n",
    "           'funding_total_usd',\n",
    "           'milestones',\n",
    "           'avg_participants']\n",
    "\n",
    "fig, axs = plt.subplots(ncols=5, nrows=2, figsize=(20, 10))\n",
    "index = 0\n",
    "axs = axs.flatten()\n",
    "for k,v in dataset[columns].items():\n",
    "    sns.boxplot(y=k, data=dataset, ax=axs[index])\n",
    "    index = index + 1"
   ]
  },
  {
   "cell_type": "code",
   "execution_count": null,
   "id": "399cdbc9",
   "metadata": {},
   "outputs": [],
   "source": [
    "fig, axs = plt.subplots(ncols=5, nrows=2, figsize=(20, 10))\n",
    "index = 0\n",
    "axs = axs.flatten()\n",
    "for k,v in dataset[columns].items():\n",
    "    sns.distplot(v, ax=axs[index])\n",
    "    index = index + 1\n",
    "plt.tight_layout()"
   ]
  },
  {
   "cell_type": "code",
   "execution_count": null,
   "id": "c2787a4b",
   "metadata": {},
   "outputs": [],
   "source": [
    "\"\"\"Creating X and Y datasets\"\"\"\n",
    "\n",
    "X = dataset[['age',\n",
    "             'age_first_funding_year',\n",
    "             'age_last_funding_year',\n",
    "             'age_first_milestone_year',\n",
    "             'age_last_milestone_year',\n",
    "             'relationships',\n",
    "             'funding_rounds',\n",
    "             'funding_total_usd',\n",
    "             'milestones',\n",
    "             'is_software',\n",
    "             'is_web',\n",
    "             'is_mobile',\n",
    "             'is_enterprise',\n",
    "             'is_advertising',\n",
    "             'is_gamesvideo',\n",
    "             'is_ecommerce',\n",
    "             'is_biotech',\n",
    "             'is_consulting',\n",
    "             'is_othercategory',\n",
    "             'has_VC',\n",
    "             'has_angel',\n",
    "             'has_roundA',\n",
    "             'has_roundB',\n",
    "             'has_roundC',\n",
    "             'has_roundD',\n",
    "             'avg_participants',\n",
    "             'is_top500']\n",
    "            ]\n",
    "y = dataset['labels']\n",
    "\n",
    "X_train, X_test, y_train, y_test = train_test_split(X, y, test_size = 0.2, random_state=68, stratify = y)"
   ]
  },
  {
   "cell_type": "code",
   "execution_count": null,
   "id": "5992692d",
   "metadata": {},
   "outputs": [],
   "source": [
    "\"\"\"Random Forest - GridSearch\"\"\"\n",
    "\n",
    "parameters = {'n_estimators': [50, 100, 150,],\n",
    "              'max_depth': [2, 4, 10, 12, 14],\n",
    "              'min_samples_split': [8, 12, 20],\n",
    "              'min_samples_leaf': [2, 4, 8],\n",
    "              }\n",
    "cv_stratify = StratifiedKFold(n_splits = 5, shuffle = True, random_state = 3)\n",
    "rfc = GridSearchCV(RandomForestClassifier(random_state = 2), parameters, cv = cv_stratify, scoring = 'f1')\n",
    "rfc.fit(X_train, y_train)\n",
    "print('RandomForest best params:', rfc.best_params_)\n",
    "print('RandomForest best f1 score:',rfc.best_score_)"
   ]
  },
  {
   "cell_type": "code",
   "execution_count": null,
   "id": "04d47c50",
   "metadata": {},
   "outputs": [],
   "source": [
    "\"\"\"Results on a test dataset\"\"\"\n",
    "\n",
    "y_pred_test = rfc.best_estimator_.predict(X_test)\n",
    "print('RandomForest metrics')\n",
    "print('f1:',f1_score(y_test, y_pred_test))\n",
    "print('accuracy:', accuracy_score(y_test, y_pred_test))\n",
    "print('precision:', precision_score(y_test, y_pred_test))\n",
    "print('recall:', recall_score(y_test, y_pred_test))"
   ]
  },
  {
   "cell_type": "code",
   "execution_count": null,
   "id": "f47eb739",
   "metadata": {},
   "outputs": [],
   "source": [
    "explainer = shap.TreeExplainer(rfc.best_estimator_)\n",
    "shap_values = explainer.shap_values(X_test)"
   ]
  },
  {
   "cell_type": "code",
   "execution_count": null,
   "id": "f01cb435",
   "metadata": {},
   "outputs": [],
   "source": [
    "\"\"\"\"Establishing Shapely value, which tells us how much specific parameter \n",
    "has contributed to the prediction of the target variable. The graph of contributions consists \n",
    "of list of parameters that are the most important to the model in an descending order. \n",
    "The lower the importance of a parameter, the lower the force it contributes to influencing target variable.\n",
    "\"\"\"\n",
    "shap.summary_plot(shap_values[1], X_test,plot_type='bar')"
   ]
  },
  {
   "cell_type": "code",
   "execution_count": null,
   "id": "56a1de14",
   "metadata": {},
   "outputs": [],
   "source": [
    "\"\"\"Graph showing positive and negative relation to the target variable\"\"\"\n",
    "shap.summary_plot(shap_values[1], X_test)"
   ]
  },
  {
   "cell_type": "code",
   "execution_count": null,
   "id": "ed761243",
   "metadata": {},
   "outputs": [],
   "source": [
    "shap.initjs()\n",
    "shap.force_plot(explainer.expected_value[1], shap_values[1], X_test)"
   ]
  },
  {
   "cell_type": "code",
   "execution_count": null,
   "id": "42b46ee3",
   "metadata": {},
   "outputs": [],
   "source": [
    "xgb_classifier = xgb.XGBClassifier()\n",
    "xgb_classifier.fit(X_train, y_train)"
   ]
  },
  {
   "cell_type": "code",
   "execution_count": null,
   "id": "50416f45",
   "metadata": {},
   "outputs": [],
   "source": [
    "y_pred = xgb_classifier.predict(X_test)\n",
    "print('XG Boost metrics')\n",
    "print('f1-', f1_score(y_test, y_pred))\n",
    "print('accuracy-', accuracy_score(y_test, y_pred))\n",
    "print('precision-', precision_score(y_test, y_pred))\n",
    "print('recall-', recall_score(y_test, y_pred))"
   ]
  },
  {
   "cell_type": "code",
   "execution_count": null,
   "id": "0ca80241",
   "metadata": {},
   "outputs": [],
   "source": [
    "explainer = shap.TreeExplainer(xgb_classifier)\n",
    "shap_values = explainer.shap_values(X_test)"
   ]
  },
  {
   "cell_type": "code",
   "execution_count": null,
   "id": "2d1e671a",
   "metadata": {},
   "outputs": [],
   "source": [
    "shap.summary_plot(shap_values, X_test, plot_type='bar')"
   ]
  },
  {
   "cell_type": "code",
   "execution_count": null,
   "id": "b95fafde",
   "metadata": {},
   "outputs": [],
   "source": [
    "shap.summary_plot(shap_values, X_test)"
   ]
  },
  {
   "cell_type": "code",
   "execution_count": null,
   "id": "7df64621",
   "metadata": {},
   "outputs": [],
   "source": [
    "shap.initjs()\n",
    "shap.force_plot(explainer.expected_value, shap_values, X_test)"
   ]
  },
  {
   "cell_type": "code",
   "execution_count": null,
   "id": "20ea930b",
   "metadata": {},
   "outputs": [],
   "source": [
    "\"\"\"Models save (in pickle) to be reused in Heroku instantly\"\"\"\n",
    "dump(rfc.best_estimator_, \"saved_rfc.pkl\")\n",
    "xgb_classifier.save_model('saved_gbc.pkl')"
   ]
  }
 ],
 "metadata": {
  "kernelspec": {
   "display_name": "Python 3 (ipykernel)",
   "language": "python",
   "name": "python3"
  },
  "language_info": {
   "codemirror_mode": {
    "name": "ipython",
    "version": 3
   },
   "file_extension": ".py",
   "mimetype": "text/x-python",
   "name": "python",
   "nbconvert_exporter": "python",
   "pygments_lexer": "ipython3",
   "version": "3.9.7"
  }
 },
 "nbformat": 4,
 "nbformat_minor": 5
}
