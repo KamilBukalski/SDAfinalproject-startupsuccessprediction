{
 "cells": [
  {
   "cell_type": "code",
   "execution_count": null,
   "id": "2ae1c34d",
   "metadata": {},
   "outputs": [],
   "source": [
    "### Import bibliotek ###\n",
    "# manimpulacja danymi\n",
    "import pandas as pd\n",
    "import numpy as np\n",
    "import matplotlib.pyplot as plt\n",
    "import pickle as p\n",
    "import seaborn as sns\n",
    "import shap\n",
    "from sklearn.model_selection import train_test_split, GridSearchCV, StratifiedKFold\n",
    "from sklearn.ensemble import RandomForestClassifier\n",
    "from sklearn.metrics import f1_score, accuracy_score, precision_score, recall_score\n",
    "\n",
    "# nasze funkcje\n",
    "import our_functions"
   ]
  },
  {
   "cell_type": "code",
   "execution_count": null,
   "id": "eb689806",
   "metadata": {},
   "outputs": [],
   "source": [
    "dataset = pd.read_csv('startup data.csv')\n",
    "\n",
    "\"\"\"Usuwanie zbędnych kolumn\"\"\"\n",
    "\n",
    "dataset=dataset.drop_duplicates(subset=['name'])\n",
    "dataset = dataset.drop(['Unnamed: 0', \n",
    "                        'Unnamed: 6',\n",
    "                        'latitude', \n",
    "                        'longitude', \n",
    "                        'state_code', \n",
    "                        'state_code.1', \n",
    "                        'zip_code', \n",
    "                        'object_id'], axis = 1)\n",
    "\n",
    "\"\"\"Wyliczenie czasu trwania projektów w latach\"\"\"\n",
    "\n",
    "time_columns = ['founded_at', 'closed_at', 'first_funding_at', 'last_funding_at']\n",
    "for column in time_columns:\n",
    "  dataset[column] = pd.to_datetime(dataset[column])\n",
    "\n",
    "dataset['closed_date'] = dataset['closed_at']\n",
    "dataset['closed_date'] = dataset['closed_date'].fillna('2013-12-31')\n",
    "\n",
    "dataset['age'] = dataset['closed_date'] - dataset['founded_at']\n",
    "\n",
    "dataset[\"age\"] = round(dataset['age']/np.timedelta64(1,'Y'))\n",
    "\n",
    "\"\"\"Usuwanie wierszy z wartościami 0\"\"\"\n",
    "\n",
    "time_columns = ['age_first_funding_year', \n",
    "                'age_last_funding_year', \n",
    "                'age_first_milestone_year', \n",
    "                'age_last_milestone_year', \n",
    "                'age']\n",
    "for column in time_columns:\n",
    "  dataset = dataset.drop(dataset[dataset[column] < 0].index)\n",
    "\n",
    "\"\"\"Wypełnianie wartości NaN\"\"\"\n",
    "\n",
    "dataset['age_first_milestone_year'] = dataset['age_first_milestone_year'].fillna(0)\n",
    "dataset['age_last_milestone_year'] = dataset['age_last_milestone_year'].fillna(0)\n",
    "\n",
    "dataset_age_group = dataset[dataset['labels'] == 1].groupby(['age']).agg({'labels' : 'count'}).reset_index()\n",
    "dataset_age_group.columns = ['age', 'total_succes']\n",
    "\n",
    "dataset_age_group_total = dataset.groupby(['age']).agg({'labels' : 'count'}).reset_index()\n",
    "dataset_age_group_total.columns = ['age', 'total']\n",
    "\n",
    "dataset_age_group = dataset_age_group.merge(dataset_age_group_total, on='age')\n",
    "dataset_age_group['succes_rate'] = round((dataset_age_group['total_succes']/dataset_age_group['total'])*100, 2)"
   ]
  },
  {
   "cell_type": "code",
   "execution_count": null,
   "id": "2af1cd85",
   "metadata": {},
   "outputs": [],
   "source": [
    "X = dataset[['age',\n",
    "             'age_first_funding_year',\n",
    "             'age_last_funding_year',\n",
    "             'age_first_milestone_year',\n",
    "             'age_last_milestone_year',\n",
    "             'relationships',\n",
    "             'funding_rounds',\n",
    "             'funding_total_usd',\n",
    "             'milestones',\n",
    "             'is_software',\n",
    "             'is_web',\n",
    "             'is_mobile',\n",
    "             'is_enterprise',\n",
    "             'is_advertising',\n",
    "             'is_gamesvideo',\n",
    "             'is_ecommerce',\n",
    "             'is_biotech',\n",
    "             'is_consulting',\n",
    "             'is_othercategory',\n",
    "             'has_VC',\n",
    "             'has_angel',\n",
    "             'has_roundA',\n",
    "             'has_roundB',\n",
    "             'has_roundC',\n",
    "             'has_roundD',\n",
    "             'avg_participants',\n",
    "             'is_top500']\n",
    "            ]\n",
    "y = dataset['labels']\n",
    "\n",
    "X_train, X_test, y_train, y_test = train_test_split(X, y, test_size = 0.2, random_state=68)"
   ]
  },
  {
   "cell_type": "code",
   "execution_count": null,
   "id": "91a11d05",
   "metadata": {},
   "outputs": [],
   "source": [
    "parameters = {'n_estimators': [85, 90, 100,],\n",
    "              'max_depth': [None, 2, 4, 5, 10, 12, 14],\n",
    "              'min_samples_split': [2, 4, 5],\n",
    "              'min_samples_leaf': [1, 2, 4, 5],\n",
    "              }\n",
    "cv_stratify = StratifiedKFold(n_splits = 5, shuffle = True, random_state = 3)\n",
    "rfc = GridSearchCV(RandomForestClassifier(random_state = 2), parameters, cv = cv_stratify, scoring = 'f1')\n",
    "rfc.fit(X_train, y_train)\n",
    "print(rfc.best_params_)\n",
    "print(rfc.best_score_)"
   ]
  },
  {
   "cell_type": "code",
   "execution_count": null,
   "id": "a5951a40",
   "metadata": {},
   "outputs": [],
   "source": [
    "y_pred_test = rfc.best_estimator_.predict(X_test)\n",
    "print('f1-',f1_score(y_test, y_pred_test))\n",
    "print('accuarcy-', accuracy_score(y_test, y_pred_test))\n",
    "print('precision-', precision_score(y_test, y_pred_test))\n",
    "print('recall-', recall_score(y_test, y_pred_test))"
   ]
  },
  {
   "cell_type": "code",
   "execution_count": null,
   "id": "fb1c628b",
   "metadata": {},
   "outputs": [],
   "source": [
    "explainer = shap.TreeExplainer(rfc.best_estimator_)\n",
    "shap_values = explainer.shap_values(X_test)"
   ]
  },
  {
   "cell_type": "code",
   "execution_count": null,
   "id": "882721bd",
   "metadata": {},
   "outputs": [],
   "source": [
    "shap.summary_plot(shap_values[1], X_test,plot_type='bar')"
   ]
  }
 ],
 "metadata": {
  "kernelspec": {
   "display_name": "Python 3 (ipykernel)",
   "language": "python",
   "name": "python3"
  },
  "language_info": {
   "codemirror_mode": {
    "name": "ipython",
    "version": 3
   },
   "file_extension": ".py",
   "mimetype": "text/x-python",
   "name": "python",
   "nbconvert_exporter": "python",
   "pygments_lexer": "ipython3",
   "version": "3.9.7"
  }
 },
 "nbformat": 4,
 "nbformat_minor": 5
}
