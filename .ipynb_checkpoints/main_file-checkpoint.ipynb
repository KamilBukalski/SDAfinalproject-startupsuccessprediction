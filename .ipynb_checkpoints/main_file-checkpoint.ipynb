{
 "cells": [
  {
   "cell_type": "code",
   "execution_count": null,
   "id": "2a48f1e6",
   "metadata": {},
   "outputs": [],
   "source": [
    "### Import bibliotek ###\n",
    "# manimpulacja danymi\n",
    "import pandas as pd\n",
    "import numpy as np\n",
    "import matplotlib.pyplot as plt\n",
    "import pickle as p\n",
    "import seaborn as sns\n",
    "import shap\n",
    "from sklearn.model_selection import train_test_split, GridSearchCV, StratifiedKFold\n",
    "from sklearn.ensemble import RandomForestClassifier, GradientBoostingClassifier\n",
    "from sklearn.metrics import f1_score, accuracy_score, precision_score, recall_score\n",
    "\n",
    "# nasze funkcje\n",
    "import our_functions"
   ]
  },
  {
   "cell_type": "code",
   "execution_count": null,
   "id": "a3924876",
   "metadata": {},
   "outputs": [],
   "source": [
    "dataset = pd.read_csv('startup data.csv')\n",
    "\n",
    "\"\"\"Usuwanie zbędnych kolumn\"\"\"\n",
    "\n",
    "dataset=dataset.drop_duplicates(subset=['name'])\n",
    "dataset = dataset.drop(['Unnamed: 0', \n",
    "                        'Unnamed: 6',\n",
    "                        'latitude', \n",
    "                        'longitude', \n",
    "                        'state_code', \n",
    "                        'state_code.1', \n",
    "                        'zip_code', \n",
    "                        'object_id'], axis = 1)\n",
    "\n",
    "\"\"\"Wyliczenie czasu trwania projektów w latach\"\"\"\n",
    "\n",
    "time_columns = ['founded_at', 'closed_at', 'first_funding_at', 'last_funding_at']\n",
    "for column in time_columns:\n",
    "  dataset[column] = pd.to_datetime(dataset[column])\n",
    "\n",
    "dataset['closed_date'] = dataset['closed_at']\n",
    "dataset['closed_date'] = dataset['closed_date'].fillna('2013-12-31')\n",
    "\n",
    "dataset['age'] = dataset['closed_date'] - dataset['founded_at']\n",
    "\n",
    "dataset[\"age\"] = round(dataset['age']/np.timedelta64(1,'Y'))\n",
    "\n",
    "\"\"\"Usuwanie wierszy z wartościami 0\"\"\"\n",
    "\n",
    "time_columns = ['age_first_funding_year', \n",
    "                'age_last_funding_year', \n",
    "                'age_first_milestone_year', \n",
    "                'age_last_milestone_year', \n",
    "                'age']\n",
    "for column in time_columns:\n",
    "  dataset = dataset.drop(dataset[dataset[column] < 0].index)\n",
    "\n",
    "\"\"\"Wypełnianie wartości NaN\"\"\"\n",
    "\n",
    "dataset['age_first_milestone_year'] = dataset['age_first_milestone_year'].fillna(0)\n",
    "dataset['age_last_milestone_year'] = dataset['age_last_milestone_year'].fillna(0)\n",
    "\n",
    "dataset_age_group = dataset[dataset['labels'] == 1].groupby(['age']).agg({'labels' : 'count'}).reset_index()\n",
    "dataset_age_group.columns = ['age', 'total_succes']\n",
    "\n",
    "dataset_age_group_total = dataset.groupby(['age']).agg({'labels' : 'count'}).reset_index()\n",
    "dataset_age_group_total.columns = ['age', 'total']\n",
    "\n",
    "dataset_age_group = dataset_age_group.merge(dataset_age_group_total, on='age')\n",
    "dataset_age_group['succes_rate'] = round((dataset_age_group['total_succes']/dataset_age_group['total'])*100, 2)"
   ]
  },
  {
   "cell_type": "code",
   "execution_count": null,
   "id": "fb3e9abe",
   "metadata": {},
   "outputs": [],
   "source": [
    "\"\"\"Analiza i wykresy \"\"\"\n",
    "\n",
    "\"\"\"Wykres zależności roku pierwszej i ostatniej dotacji oraz roku osiągnięcia pierwszego i ostaniego istotnego celu\"\"\"\n",
    "\n",
    "columns = ['age',\n",
    "           'age_first_funding_year',\n",
    "           'age_last_funding_year', \n",
    "           'age_first_milestone_year',\n",
    "           'age_last_milestone_year']\n",
    "\n",
    "plt.figure(figsize=(15, 10))\n",
    "for i in columns:\n",
    "  dataset2 = dataset.copy()\n",
    "  dataset2[i] = round(dataset2[i])\n",
    "  dataset_age_group=dataset2[dataset2['labels']==1].groupby([i]).agg({'labels':'count'}).reset_index()\n",
    "  dataset_age_group.columns=[i,'total_succes']\n",
    "\n",
    "  dataset_age_group_total=dataset2.groupby([i]).agg({'labels':'count'}).reset_index()\n",
    "  dataset_age_group_total.columns=[i,'total']\n",
    "\n",
    "  dataset_age_group=dataset_age_group.merge(dataset_age_group_total,on=i)\n",
    "  dataset_age_group['succes_rate']=round((dataset_age_group['total_succes']/dataset_age_group['total'])*100,2)\n",
    "    \n",
    "  plt.plot(dataset_age_group[i], dataset_age_group['succes_rate'], label=i, linewidth=3 )\n",
    "plt.legend()\n",
    "plt.xlabel('years')\n",
    "plt.ylabel('succes rate [%]')\n",
    "plt.title('succes rate compare to age and funding and milestone year')\n",
    "plt.show()"
   ]
  },
  {
   "cell_type": "code",
   "execution_count": null,
   "id": "4fae1004",
   "metadata": {},
   "outputs": [],
   "source": [
    "\"\"\"Wykres zależności liczby związków, dotacji oraz kluczowych celów\"\"\"\n",
    "\n",
    "columns = ['relationships', 'funding_rounds', 'milestones']\n",
    "\n",
    "plt.figure(figsize=(15, 10))\n",
    "for i in columns:\n",
    "  dataset2 = dataset.copy()\n",
    "  dataset2[i] = round(dataset2[i])\n",
    "  dataset_age_group=dataset2[dataset2['labels']==1].groupby([i]).agg({'labels':'count'}).reset_index()\n",
    "  dataset_age_group.columns=[i,'total_succes']\n",
    "\n",
    "  dataset_age_group_total=dataset2.groupby([i]).agg({'labels':'count'}).reset_index()\n",
    "  dataset_age_group_total.columns=[i,'total']\n",
    "\n",
    "  dataset_age_group=dataset_age_group.merge(dataset_age_group_total,on=i)\n",
    "  dataset_age_group['succes_rate']=round((dataset_age_group['total_succes']/dataset_age_group['total'])*100,2)\n",
    "    \n",
    "  plt.plot(dataset_age_group[i], dataset_age_group['succes_rate'], label=i, linewidth=3 )\n",
    "plt.legend()\n",
    "plt.xlabel('years')\n",
    "plt.ylabel('succes rate [%]')\n",
    "plt.title('succes rate compare to number of relationships, funding_rounds and milestones')\n",
    "plt.show()"
   ]
  },
  {
   "cell_type": "code",
   "execution_count": null,
   "id": "e4cb033c",
   "metadata": {},
   "outputs": [],
   "source": [
    "\"\"\"Sprawdzanie rozkładu danych\"\"\"\n",
    "\n",
    "columns = ['age', \n",
    "           'age_first_funding_year', \n",
    "           'age_last_funding_year',\n",
    "           'age_first_milestone_year', \n",
    "           'age_last_milestone_year', \n",
    "           'relationships', \n",
    "           'funding_rounds', \n",
    "           'funding_total_usd',\n",
    "           'milestones',\n",
    "           'avg_participants']\n",
    "\n",
    "fig, axs = plt.subplots(ncols=5, nrows=2, figsize=(20, 10))\n",
    "index = 0\n",
    "axs = axs.flatten()\n",
    "for k,v in dataset[columns].items():\n",
    "    sns.boxplot(y=k, data=dataset, ax=axs[index])\n",
    "    index = index + 1"
   ]
  },
  {
   "cell_type": "code",
   "execution_count": null,
   "id": "7c0cff9e",
   "metadata": {},
   "outputs": [],
   "source": [
    "fig, axs = plt.subplots(ncols=5, nrows=2, figsize=(20, 10))\n",
    "index = 0\n",
    "axs = axs.flatten()\n",
    "for k,v in dataset[columns].items():\n",
    "    sns.distplot(v, ax=axs[index])\n",
    "    index = index + 1\n",
    "plt.tight_layout()"
   ]
  },
  {
   "cell_type": "code",
   "execution_count": null,
   "id": "8f62c93a",
   "metadata": {},
   "outputs": [],
   "source": [
    "\"\"\"Tworzenie zbiorów\"\"\"\n",
    "\n",
    "X = dataset[['age',\n",
    "             'age_first_funding_year',\n",
    "             'age_last_funding_year',\n",
    "             'age_first_milestone_year',\n",
    "             'age_last_milestone_year',\n",
    "             'relationships',\n",
    "             'funding_rounds',\n",
    "             'funding_total_usd',\n",
    "             'milestones',\n",
    "             'is_software',\n",
    "             'is_web',\n",
    "             'is_mobile',\n",
    "             'is_enterprise',\n",
    "             'is_advertising',\n",
    "             'is_gamesvideo',\n",
    "             'is_ecommerce',\n",
    "             'is_biotech',\n",
    "             'is_consulting',\n",
    "             'is_othercategory',\n",
    "             'has_VC',\n",
    "             'has_angel',\n",
    "             'has_roundA',\n",
    "             'has_roundB',\n",
    "             'has_roundC',\n",
    "             'has_roundD',\n",
    "             'avg_participants',\n",
    "             'is_top500']\n",
    "            ]\n",
    "y = dataset['labels']\n",
    "\n",
    "X_train, X_test, y_train, y_test = train_test_split(X, y, test_size = 0.2, random_state=68)"
   ]
  },
  {
   "cell_type": "code",
   "execution_count": null,
   "id": "f327798b",
   "metadata": {},
   "outputs": [],
   "source": [
    "\"\"\"Random Forest - GridSearch\"\"\"\n",
    "\n",
    "parameters = {'n_estimators': [50, 100, 150,],\n",
    "              'max_depth': [2, 4, 10, 12, 14],\n",
    "              'min_samples_split': [8, 12, 20],\n",
    "              'min_samples_leaf': [2, 4, 8],\n",
    "              }\n",
    "cv_stratify = StratifiedKFold(n_splits = 5, shuffle = True, random_state = 3)\n",
    "rfc = GridSearchCV(RandomForestClassifier(random_state = 2), parameters, cv = cv_stratify, scoring = 'f1')\n",
    "rfc.fit(X_train, y_train)\n",
    "print('RandomForest best params:', rfc.best_params_)\n",
    "print('RandomForest best f1 score:',rfc.best_score_)"
   ]
  },
  {
   "cell_type": "code",
   "execution_count": null,
   "id": "ea9f0758",
   "metadata": {},
   "outputs": [],
   "source": [
    "\"\"\"Wyniki metryk na zbiorze testowym\"\"\"\n",
    "\n",
    "y_pred_test = rfc.best_estimator_.predict(X_test)\n",
    "print('RandomForest metrics')\n",
    "print('f1:',f1_score(y_test, y_pred_test))\n",
    "print('accuarcy:', accuracy_score(y_test, y_pred_test))\n",
    "print('precision:', precision_score(y_test, y_pred_test))\n",
    "print('recall:', recall_score(y_test, y_pred_test))"
   ]
  },
  {
   "cell_type": "code",
   "execution_count": null,
   "id": "f6d14969",
   "metadata": {},
   "outputs": [],
   "source": [
    "explainer = shap.TreeExplainer(rfc.best_estimator_)\n",
    "shap_values = explainer.shap_values(X_test)"
   ]
  },
  {
   "cell_type": "code",
   "execution_count": null,
   "id": "711fe02c",
   "metadata": {},
   "outputs": [],
   "source": [
    "\"\"\"\"Wyznaczanie wartość Shapley’a, która mówi w jakim stopniu każda cecha przyczyniła się \n",
    "do przewidywania zmiennej docelowej. Wykres ważności zmiennych zawiera listę najbardziej \n",
    "znaczących zmiennych w porządku malejącym. Górne charakterystyki wnoszą najwięcej do modelu. \n",
    "Im niżej tym słabsza cecha i mają mniejszą moc predykcyjną.\n",
    "\"\"\"\n",
    "shap.summary_plot(shap_values[1], X_test,plot_type='bar')"
   ]
  },
  {
   "cell_type": "code",
   "execution_count": null,
   "id": "d3495644",
   "metadata": {},
   "outputs": [],
   "source": [
    "\"\"\"Wykres pokazujący dodatkowo pozytywne i negatywne relacje wartości ze zmienną docelową\"\"\"\n",
    "shap.summary_plot(shap_values[1], X_test)"
   ]
  },
  {
   "cell_type": "code",
   "execution_count": null,
   "id": "eed59769",
   "metadata": {},
   "outputs": [],
   "source": [
    "shap.initjs()\n",
    "shap.force_plot(explainer.expected_value[1], shap_values[1], X_test)"
   ]
  },
  {
   "cell_type": "code",
   "execution_count": null,
   "id": "9fda8b9a",
   "metadata": {},
   "outputs": [],
   "source": [
    "parameters = {'learning_rate' : [0.1, 0.2, 0.4],\n",
    "              'n_estimators': [50, 100, 150],\n",
    "              'max_depth': [2, 4, 8],\n",
    "              'min_samples_split': [8, 12, 20],\n",
    "              'min_samples_leaf': [2, 4],\n",
    "              }\n",
    "gbc = GridSearchCV(GradientBoostingClassifier(random_state = 2), parameters, cv = cv_stratify, scoring = 'f1')\n",
    "gbc.fit(X_train, y_train)\n",
    "print('GradientBoosting best params:', gbc.best_params_)\n",
    "print('GradientBoosting best f1 score:', gbc.best_score_)"
   ]
  },
  {
   "cell_type": "code",
   "execution_count": null,
   "id": "a48caa4d",
   "metadata": {},
   "outputs": [],
   "source": [
    "y_pred = gbc.best_estimator_.predict(X_test)\n",
    "print('Gradient Boosting metrics')\n",
    "print('f1:', f1_score(y_test, y_pred))\n",
    "print('accuarcy:', accuracy_score(y_test, y_pred))\n",
    "print('precision:', precision_score(y_test, y_pred))\n",
    "print('recall:', recall_score(y_test, y_pred))"
   ]
  },
  {
   "cell_type": "code",
   "execution_count": null,
   "id": "f1d6a67b",
   "metadata": {},
   "outputs": [],
   "source": [
    "explainer = shap.TreeExplainer(gbc.best_estimator_)\n",
    "shap_values = explainer.shap_values(X_test)"
   ]
  },
  {
   "cell_type": "code",
   "execution_count": null,
   "id": "919c0a6e",
   "metadata": {},
   "outputs": [],
   "source": [
    "shap.summary_plot(shap_values, X_test, plot_type='bar')"
   ]
  },
  {
   "cell_type": "code",
   "execution_count": null,
   "id": "17f333ba",
   "metadata": {},
   "outputs": [],
   "source": [
    "shap.summary_plot(shap_values, X_test)"
   ]
  },
  {
   "cell_type": "code",
   "execution_count": null,
   "id": "b815b560",
   "metadata": {},
   "outputs": [],
   "source": [
    "shap.initjs()\n",
    "shap.force_plot(explainer.expected_value, shap_values, X_test)"
   ]
  },
  {
   "cell_type": "code",
   "execution_count": null,
   "id": "656a1b9b",
   "metadata": {},
   "outputs": [],
   "source": [
    "p.dump([rfc.best_estimator_, gbc.best_estimator_], open(\"startup_prediction_saved.p\", \"wb\"))"
   ]
  }
 ],
 "metadata": {
  "kernelspec": {
   "display_name": "Python 3 (ipykernel)",
   "language": "python",
   "name": "python3"
  },
  "language_info": {
   "codemirror_mode": {
    "name": "ipython",
    "version": 3
   },
   "file_extension": ".py",
   "mimetype": "text/x-python",
   "name": "python",
   "nbconvert_exporter": "python",
   "pygments_lexer": "ipython3",
   "version": "3.9.7"
  }
 },
 "nbformat": 4,
 "nbformat_minor": 5
}
